{
 "cells": [
  {
   "cell_type": "markdown",
   "source": [
    "# Crowdstrike Data Science Internship: Machine Learning Challenge \n",
    "\n",
    "## Phishing URLs Detection"
   ],
   "metadata": {}
  },
  {
   "cell_type": "markdown",
   "source": [
    "This is the empty notebook to be used in the Machine Learning Challenge that has to be completed in order to be invited for the on-site interview.\n",
    "\n",
    "As a brief reminder, you are provided with three files, the data that your model needs to use in order to fulfill the current requirement:\n",
    "\n",
    "    - train.csv contains all the data (features and EventID as label) to be used for train.\n",
    "    - validation.csv has data to be used for validation/tuning purposes.\n",
    "    - test.csv is the data that will remain untouched in the learning process and will only be used to assess the performance of the model.\n",
    "\n",
    "    Read the data, then build your model(s) to solve the proposed challenge.\n",
    "\n",
    "**IMPORTANT Notes** \n",
    "\n",
    "1. Do not forget to make save your notebook from time to time (checkpoints). Let the cells run in order for us to be able to see your outputs.\n",
    "\n",
    "2. You are allowed, post fine-tuning to use the validation data for training. It's you call if you are using it to train or not.\n",
    "\n",
    "3. test.csv does not contain any labels, only the URLs that are to be used as inputs to your model. We will evaluate your method, F1 score-wise, using the test data.\n",
    "\n",
    "4. Even if you don't achieve top scores in the evaluation phase, although that is an important step as well, we will look over your code, analysis (use the Validation set, or part of it, for that), plots and metrics used in drawing conclusions. Please be careful to this part as well, as it will add up to your final score.\n",
    "\n",
    "Good luck!\n"
   ],
   "metadata": {}
  },
  {
   "cell_type": "code",
   "execution_count": 1,
   "source": [
    "# If you'd like to install packages that aren't installed by default, list them here.\n",
    "# This will ensure your notebook has all the dependencies and works everywhere\n",
    "import sys\n",
    "!{sys.executable} -m pip install sklearn\n",
    "!{sys.executable} -m pip install plotly"
   ],
   "outputs": [
    {
     "output_type": "stream",
     "name": "stdout",
     "text": [
      "Requirement already satisfied: sklearn in /opt/conda/lib/python3.7/site-packages (0.0)\n",
      "Requirement already satisfied: scikit-learn in /opt/conda/lib/python3.7/site-packages (from sklearn) (0.21.3)\n",
      "Requirement already satisfied: joblib>=0.11 in /opt/conda/lib/python3.7/site-packages (from scikit-learn->sklearn) (0.17.0)\n",
      "Requirement already satisfied: scipy>=0.17.0 in /opt/conda/lib/python3.7/site-packages (from scikit-learn->sklearn) (1.3.3)\n",
      "Requirement already satisfied: numpy>=1.11.0 in /opt/conda/lib/python3.7/site-packages (from scikit-learn->sklearn) (1.19.2)\n",
      "Requirement already satisfied: plotly in /opt/conda/lib/python3.7/site-packages (5.3.1)\n",
      "Requirement already satisfied: tenacity>=6.2.0 in /opt/conda/lib/python3.7/site-packages (from plotly) (8.0.1)\n",
      "Requirement already satisfied: six in /opt/conda/lib/python3.7/site-packages (from plotly) (1.15.0)\n"
     ]
    }
   ],
   "metadata": {}
  },
  {
   "cell_type": "code",
   "execution_count": 2,
   "source": [
    "# Import libraries\n",
    "\n",
    "import pandas as pd\n",
    "import matplotlib.pyplot as plt\n",
    "import numpy as np\n",
    "import plotly\n",
    "from urllib.parse import urlparse"
   ],
   "outputs": [],
   "metadata": {}
  },
  {
   "cell_type": "code",
   "execution_count": 3,
   "source": [
    "# Read the data\n",
    "train = pd.read_csv('train.csv')\n",
    "test = pd.read_csv('test_samples_only.csv')\n",
    "valid = pd.read_csv('validation.csv')\n",
    "train.columns\n",
    "\n"
   ],
   "outputs": [
    {
     "output_type": "execute_result",
     "data": {
      "text/plain": [
       "Index(['url', 'label'], dtype='object')"
      ]
     },
     "metadata": {},
     "execution_count": 3
    }
   ],
   "metadata": {}
  },
  {
   "cell_type": "code",
   "execution_count": 4,
   "source": [
    "# Removing duplicate items\n",
    "train.duplicated().sum()\n",
    "train = train.drop_duplicates()\n",
    "train.shape"
   ],
   "outputs": [
    {
     "output_type": "execute_result",
     "data": {
      "text/plain": [
       "(36721, 2)"
      ]
     },
     "metadata": {},
     "execution_count": 4
    }
   ],
   "metadata": {}
  },
  {
   "cell_type": "markdown",
   "source": [
    "# Feature Engineering"
   ],
   "metadata": {}
  },
  {
   "cell_type": "code",
   "execution_count": 5,
   "source": [
    "# Exract features from urls (Lexical)\n",
    "def get_dot_count(url):\n",
    "    return url.count('.')\n",
    "\n",
    "def get_url_length(url):\n",
    "    return len(url)\n",
    "\n",
    "def get_special_char_count(url):\n",
    "    count = 0\n",
    "    special_characters = [';','+=','_','?','=','&','[',']']\n",
    "    for each_letter in url:\n",
    "        if each_letter in special_characters:\n",
    "            count = count + 1\n",
    "    return count\n",
    "\n",
    "def get_hyphen_count(url):\n",
    "    return url.count('-')\n",
    "\n",
    "def get_double_slash(url):\n",
    "    return url.count('//')\n",
    "\n",
    "def get_single_slash(url):\n",
    "    return url.count('/')\n",
    "\n",
    "def get_protocol(url):\n",
    "    protocol = urlparse(url)\n",
    "    if(protocol.scheme == 'http'):\n",
    "        return 1\n",
    "    else:\n",
    "        return 0\n",
    "    \n",
    "def get_protocol_count(url):\n",
    "    http_count = url.count('http')\n",
    "    https_count = url.count('https')\n",
    "    http_count = http_count - https_count #correcting the miscount of https as http\n",
    "    return (http_count + https_count)\n",
    "\n",
    "# Create lists for each feature for creating np arrays\n",
    "\n"
   ],
   "outputs": [],
   "metadata": {}
  },
  {
   "cell_type": "code",
   "execution_count": 6,
   "source": [
    "# Extract features\n",
    "\n",
    "def extract_all_features(dataset, df):\n",
    "    dotCount = []\n",
    "    urlLength = []\n",
    "    specialCharCount = []\n",
    "    hyphenCount = []\n",
    "    doubleSlashCount = []\n",
    "    singleSlashCount = []\n",
    "    protocol = []\n",
    "    protocolCount = []\n",
    "    counter = 0\n",
    "    for url in dataset['url']:\n",
    "        counter = counter + 1\n",
    "        #Extracting lexical features from URLs\n",
    "        dotCount.append(get_dot_count(url))\n",
    "        urlLength.append(get_url_length(url))\n",
    "        specialCharCount.append(get_special_char_count(url))\n",
    "        hyphenCount.append(get_hyphen_count(url))\n",
    "        doubleSlashCount.append(get_double_slash(url))\n",
    "        singleSlashCount.append(get_single_slash(url))\n",
    "        protocol.append(get_protocol(url))\n",
    "        protocolCount.append(get_protocol_count(url))\n",
    "    df[\"dot_count\"] = dotCount\n",
    "    df[\"url_len\"] = urlLength\n",
    "    df[\"special_count\"] = specialCharCount\n",
    "    df[\"hyphen_count\"] = hyphenCount\n",
    "    df[\"double_slash\"] = doubleSlashCount\n",
    "    df[\"single_slash\"] = singleSlashCount\n",
    "    df[\"protocol\"] = protocol\n",
    "    df[\"protocol_count\"] = protocolCount"
   ],
   "outputs": [],
   "metadata": {}
  },
  {
   "cell_type": "code",
   "execution_count": null,
   "source": [],
   "outputs": [],
   "metadata": {}
  },
  {
   "cell_type": "code",
   "execution_count": 7,
   "source": [
    "features_df = pd.DataFrame()\n",
    "extract_all_features(train, features_df)\n",
    "labels = np.array(train['label'])\n"
   ],
   "outputs": [],
   "metadata": {}
  },
  {
   "cell_type": "markdown",
   "source": [
    "# Training Model and Testing its Accuracy"
   ],
   "metadata": {}
  },
  {
   "cell_type": "code",
   "execution_count": 8,
   "source": [
    "from sklearn.ensemble import RandomForestClassifier\n",
    "from sklearn.metrics import f1_score\n",
    "estim = [5, 10, 25, 50, 100, 250, 500, 750, 1000]\n",
    "score_list = []\n",
    "for est in estim:\n",
    "    forest_model = RandomForestClassifier(random_state=3, \n",
    "                                            n_estimators=est)\n",
    "    forest_model.fit(features_df, labels)\n",
    "    valid_df = pd.DataFrame()\n",
    "    valid_labels = np.array(valid['label'])\n",
    "    extract_all_features(valid, valid_df)\n",
    "    valid_preds = forest_model.predict(valid_df)\n",
    "    score = f1_score(valid_labels, valid_preds)\n",
    "    score_list.append(score)\n",
    "\n",
    "plt.plot(estim, score_list)\n",
    "plt.legend(estim)\n",
    "plt.title('Variation of f1 score with number of estimators')\n",
    "plt.show()\n",
    "\n",
    "print(f\"Best F1 Score = {max(score_list)}\")"
   ],
   "outputs": [
    {
     "output_type": "display_data",
     "data": {
      "image/png": "[encoded data removed]",
      "text/plain": [
       "<Figure size 432x288 with 1 Axes>"
      ]
     },
     "metadata": {
      "needs_background": "light"
     }
    },
    {
     "output_type": "stream",
     "name": "stdout",
     "text": [
      "Best F1 Score = 0.9787478460654797\n"
     ]
    }
   ],
   "metadata": {}
  },
  {
   "cell_type": "markdown",
   "source": [
    "**Lets zoom in between 500 & 1000 as that is where the best accuracy is attained**"
   ],
   "metadata": {}
  },
  {
   "cell_type": "code",
   "execution_count": 9,
   "source": [
    "estim = list(range(500, 1000, 100))\n",
    "score_list = []\n",
    "for est in estim:\n",
    "    forest_model = RandomForestClassifier(random_state=3, \n",
    "                                            n_estimators=est)\n",
    "    forest_model.fit(features_df, labels)\n",
    "    valid_df = pd.DataFrame()\n",
    "    valid_labels = np.array(valid['label'])\n",
    "    extract_all_features(valid, valid_df)\n",
    "    valid_preds = forest_model.predict(valid_df)\n",
    "    score = f1_score(valid_labels, valid_preds)\n",
    "    score_list.append(score)\n",
    "\n",
    "plt.plot(estim, score_list)\n",
    "plt.legend(estim)\n",
    "plt.title('Variation of f1 score with number of estimators')\n",
    "plt.show()\n",
    "\n",
    "print(f\"Best F1 Score = {max(score_list)}\")"
   ],
   "outputs": [
    {
     "output_type": "display_data",
     "data": {
      "image/png": "[encoded data removed]",
      "text/plain": [
       "<Figure size 432x288 with 1 Axes>"
      ]
     },
     "metadata": {
      "needs_background": "light"
     }
    },
    {
     "output_type": "stream",
     "name": "stdout",
     "text": [
      "Best F1 Score = 0.9793340987370838\n"
     ]
    }
   ],
   "metadata": {}
  },
  {
   "cell_type": "markdown",
   "source": [
    "**It seems that n_estimators=800 is the most accurate so that is what I shall use for the submission testing set**"
   ],
   "metadata": {}
  },
  {
   "cell_type": "markdown",
   "source": [
    "# Running Model on Test Sample Set"
   ],
   "metadata": {}
  },
  {
   "cell_type": "code",
   "execution_count": 12,
   "source": [
    "# Using model on test set and outputting file as submission.csv\n",
    "forest_model = RandomForestClassifier(random_state=3, \n",
    "                                        n_estimators=800)\n",
    "forest_model.fit(features_df, labels)  \n",
    "test_df = pd.DataFrame()\n",
    "extract_all_features(test, test_df)\n",
    "test_preds = forest_model.predict(test_df)\n",
    "\n",
    "results = pd.DataFrame()\n",
    "results[\"label\"]=test_preds\n",
    "results.to_csv('submission.csv', index=False)\n"
   ],
   "outputs": [],
   "metadata": {}
  },
  {
   "cell_type": "markdown",
   "source": [
    "# Cross Validation Method\n",
    "---\n",
    "**Another approach to assess the accuracy of the model would be to use cross validation on the training and validation data sets to ensure that the model does not overfit the data**"
   ],
   "metadata": {}
  },
  {
   "cell_type": "code",
   "execution_count": 10,
   "source": [
    "from sklearn.pipeline import Pipeline\n",
    "from sklearn.model_selection import cross_val_score\n",
    "cross_df = pd.concat([features_df, valid_df], ignore_index=True)\n",
    "cross_labels = np.hstack([labels, valid_labels])\n",
    "my_pipeline = Pipeline(steps=[('model', RandomForestClassifier(n_estimators=800, \n",
    "                                                                   random_state=0))\n",
    "                                 ])\n",
    "scores = cross_val_score(my_pipeline, cross_df, cross_labels, \n",
    "                              cv=5, \n",
    "                              scoring='f1')\n",
    "print(f\"F1 Score = {scores.mean()}\")"
   ],
   "outputs": [
    {
     "output_type": "stream",
     "name": "stdout",
     "text": [
      "F1 Score = 0.9740427891556754\n"
     ]
    }
   ],
   "metadata": {}
  },
  {
   "cell_type": "markdown",
   "source": [
    "# What More I Would Have Done\n",
    "---\n",
    " - Used different models and compared the accuracy of them\n",
    " - Tune the hyperparameters of the models as opposed to just random state and n_estimators\n",
    " - Look for data leakage in the features and adjust accordingly\n",
    " - Test Principal Component Analysis on the features to see whether that would have improved accuracy"
   ],
   "metadata": {}
  },
  {
   "cell_type": "code",
   "execution_count": null,
   "source": [],
   "outputs": [],
   "metadata": {}
  }
 ],
 "metadata": {
  "kernelspec": {
   "display_name": "Python 3",
   "language": "python",
   "name": "python3"
  },
  "language_info": {
   "codemirror_mode": {
    "name": "ipython",
    "version": 3
   },
   "file_extension": ".py",
   "mimetype": "text/x-python",
   "name": "python",
   "nbconvert_exporter": "python",
   "pygments_lexer": "ipython3",
   "version": "3.7.8"
  }
 },
 "nbformat": 4,
 "nbformat_minor": 4
}